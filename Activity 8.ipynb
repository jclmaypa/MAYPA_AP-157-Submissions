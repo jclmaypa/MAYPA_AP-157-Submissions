{
 "cells": [
  {
   "attachments": {},
   "cell_type": "markdown",
   "metadata": {},
   "source": [
    "# Prelude\n",
    "Hehe I really liked this activity.\n",
    "\n",
    "# Acknowledgements\n",
    "I'd like to thank my instructors, Sir Rene Principe Jr. and Sir Kenneth Leo, for guiding me throughout the activity. I would also like to thank my professor, Ma'am Jing, for guiding me in my coding while my classmates and I worked in R202. I would also like to acknowledge my classmates: Abdel, Johnenn, Jonabel, Richmond, Lovely, Hans, Genesis, Jeruine, Rusher, and Ron for helping me complete this activity."
   ]
  },
  {
   "attachments": {},
   "cell_type": "markdown",
   "metadata": {},
   "source": [
    "# Code starts Here"
   ]
  },
  {
   "cell_type": "code",
   "execution_count": 181,
   "metadata": {},
   "outputs": [
    {
     "name": "stderr",
     "output_type": "stream",
     "text": [
      "C:\\Users\\Julian Maypa\\AppData\\Local\\Temp\\ipykernel_19292\\2692339592.py:10: DeprecationWarning: Please use `binary_fill_holes` from the `scipy.ndimage` namespace, the `scipy.ndimage.morphology` namespace is deprecated.\n",
      "  from scipy.ndimage.morphology import binary_fill_holes\n"
     ]
    }
   ],
   "source": [
    "import numpy as np\n",
    "import matplotlib.pyplot as plt\n",
    "import cv2\n",
    "import statistics as st\n",
    "from PIL import Image\n",
    "from skimage.measure import label, regionprops, regionprops_table\n",
    "import pandas as pd\n",
    "from scipy.stats import gaussian_kde\n",
    "import os\n",
    "from scipy.ndimage.morphology import binary_fill_holes\n",
    "\n",
    "image_repository = \"./Image repository/\"\n",
    "data_repository = \"./Features extracted/\"\n",
    "\n",
    "# initializing this so I have a placeholder\n",
    "image = 0\n",
    "R,G,B, ave_R,ave_G, ave_B = None, None, None, None, None, None"
   ]
  },
  {
   "attachments": {},
   "cell_type": "markdown",
   "metadata": {},
   "source": [
    "> #### ${\\tt thresholding(image, stdev\\_mult):}$\n",
    "> 1. Accepts a grayscale image\n",
    "> 2. Gets the median and standard deviation of the image.\n",
    "> 3. Binarizes the image by zeroing out the values that are in the range [median - ${\\tt stdev\\_mult}\\times$(stdev), median + ${\\tt stdev\\_mult}\\times$(stdev)] and setting the other values to $1$.\n",
    "> 4. Returns the binarized image.<br>\n",
    "> $~$"
   ]
  },
  {
   "cell_type": "code",
   "execution_count": 91,
   "metadata": {},
   "outputs": [],
   "source": [
    "def thresholding(image, stdev_mult):\n",
    "\n",
    "    # I'll automate the thresholding. Since we know that the highest peak in the histogram represents the image's background, \n",
    "    # my left and right borders will be np.median(image) -+ stdev_mult*stdev respectively.\n",
    "    peak_ = np.median(image.flatten())\n",
    "    stdev_ = np.std(image.flatten())\n",
    "\n",
    "    # Now setting up the borders\n",
    "    left_border = int(np.floor(peak_ - stdev_mult*stdev_))\n",
    "    right_border = int(np.ceil(peak_ + stdev_mult*stdev_))\n",
    "\n",
    "    # Converting to binary through. The values to the left of the left border and to the right of the right boarder are set to 1.\n",
    "    T, thresholded = cv2.threshold(image, left_border, right_border, cv2.THRESH_BINARY_INV)\n",
    "\n",
    "    return thresholded\n"
   ]
  },
  {
   "attachments": {},
   "cell_type": "markdown",
   "metadata": {},
   "source": [
    "> #### ${\\tt morphing\\_time(filename, filetype, commands, record = False, ROI\\_size = None,}$ \n",
    "> #### ${\\tt blob\\_numbers = False, bounding\\_box = False):}$\n",
    "> 1. opens the image with the stated ${\\tt filename}$.\n",
    "> 2. Loops through a list of ${\\tt commands}$ which contains the morphological operations along with their parameters.\n",
    "> 3. Displays the original image and the final processed image.\n",
    "> 4. If ${\\tt record}$ is ${\\tt True}$, then the area, centroid, bounding box, perimeter, eccentricity, minor axis, and major axis of the detected objects are saved to a csv file\n",
    "> 5. If ${\\tt ROI\\_size}$ is ${\\tt True}$, then the measurements are converted to $\\rm{cm}$ or whatever unit you want to set.\n",
    "> 6. If ${\\tt blob\\_numbers}$ is ${\\tt True}$, then a number is also displayed on the labelled objects.\n",
    "> 6. If ${\\tt bounding\\_box}$ is ${\\tt True}$, then the detected objects in the original image is enclosed in a box.\n",
    "> $~$"
   ]
  },
  {
   "cell_type": "code",
   "execution_count": 182,
   "metadata": {},
   "outputs": [],
   "source": [
    "def morphing_time(filename, commands, plotting = False):\n",
    "    # Setting initial parameters\n",
    "    cmap_color = \"gray\"\n",
    "    image = cv2.imread(image_repository + filename)\n",
    "    image = cv2.cvtColor(image, cv2.COLOR_BGR2RGB)\n",
    "    original_image = image.copy()\n",
    "\n",
    "    # This is where the commands are looped through\n",
    "    for i in range(len(commands)):\n",
    "        process = commands[i][0].lower()\n",
    "\n",
    "        match process:\n",
    "            \n",
    "            case 'grayscale':       \n",
    "                image = cv2.cvtColor(image, cv2.COLOR_BGR2GRAY)\n",
    "            case 'thresholding':\n",
    "                image = thresholding(image, commands[i][1])\n",
    "            case 'dilation':\n",
    "                image = cv2.dilate(image, commands[i][1], iterations = commands[i][2])\n",
    "            case 'erosion':\n",
    "                image = cv2.erode(image, commands[i][1], commands[i][2])\n",
    "            case 'opening':\n",
    "                image = cv2.morphologyEx(image, cv2.MORPH_OPEN, commands[i][1])\n",
    "            case 'closing':\n",
    "                image = cv2.morphologyEx(image, cv2.MORPH_CLOSE, commands[i][1])\n",
    "            case 'median_blur':\n",
    "                image = cv2.medianBlur(image, commands[i][1])\n",
    "            case 'simple_binarize':\n",
    "                # All pixels beow the boundary ares set to 0 and above are set to 1.\n",
    "                boundary = np.percentile(image, commands[i][1])\n",
    "                image[image <= boundary] = 0\n",
    "                image[image > boundary] = 1  \n",
    "            case 'invert':\n",
    "                image= cv2.bitwise_not(image)\n",
    "            case 'apply_mask':\n",
    "                mask_2D = image.copy()\n",
    "                mask = np.dstack([image,image,image])\n",
    "                image = original_image*mask\n",
    "            case 'separate_rgb':\n",
    "                R,G,B = cv2.split(image)\n",
    "            case 'average_rgb':\n",
    "                ave_R = np.average(R[mask_2D == 1])\n",
    "                ave_G = np.average(G[mask_2D == 1])\n",
    "                ave_B = np.average(B[mask_2D == 1])\n",
    "            case 'get_mask':\n",
    "                image = mask_2D\n",
    "            case 'save':\n",
    "                labelled_image = label(image)\n",
    "                regions = regionprops(labelled_image)\n",
    "                props = regionprops_table(labelled_image, properties=commands[i][1])\n",
    "                data = pd.DataFrame(props)\n",
    "                data.drop(data[data['area'] <commands[i][2]].index, inplace=True)\n",
    "            case 'fill_holes':\n",
    "                image = binary_fill_holes(image)\n",
    "            case 'done':\n",
    "                break\n",
    "                \n",
    "            case other:\n",
    "                print(commands[i][0] + \" did nothing lol.\")\n",
    "\n",
    "\n",
    "    # For graphing\n",
    "    if plotting == True:\n",
    "        fig, ax = plt.subplots(1,2, figsize = (12,8))\n",
    "        ax[0].imshow(original_image)\n",
    "        ax[0].set_title(filename)\n",
    "\n",
    "        ax[1].imshow(image, cmap = cmap_color)\n",
    "        ax[1].set_title(\"Processed Image\")\n",
    "\n",
    "        plt.tight_layout()\n",
    "        plt.show()\n",
    "    return data, ave_R, ave_G, ave_B\n"
   ]
  },
  {
   "attachments": {},
   "cell_type": "markdown",
   "metadata": {},
   "source": [
    "# Outputs"
   ]
  },
  {
   "cell_type": "code",
   "execution_count": 189,
   "metadata": {},
   "outputs": [],
   "source": [
    "overall_data = pd.DataFrame(columns = ['area', 'eccentricity', 'ave_R', 'ave_G', 'ave_B'])\n",
    "commands = [\n",
    "            ['invert'],\n",
    "            ['median_blur', 11],\n",
    "            ['grayscale'],\n",
    "            ['simple_binarize', 57.5],\n",
    "            ['fill_holes'],\n",
    "            ['apply_mask'],\n",
    "            ['separate_RGB'],\n",
    "            ['average_rgb'],\n",
    "            ['get_mask'],\n",
    "            ['save', ('area','centroid', 'bbox', \n",
    "                      'perimeter', 'eccentricity' , \n",
    "                      'orientation','axis_major_length',\n",
    "                        'axis_minor_length'), 1000 ]\n",
    "        ]\n",
    "for images in os.listdir(image_repository + 'Banana/'):\n",
    " \n",
    "    # check if the image ends with png\n",
    "    if (images.endswith(\".jpg\")):\n",
    "      data, ave_R, ave_G, ave_B = morphing_time('Banana/'+images, commands)\n",
    "      new_data = [data.iloc[0]['area'], data.iloc[0]['eccentricity'], ave_R, ave_G, ave_B]\n",
    "      overall_data.loc[len(overall_data)] = new_data\n",
    "\n",
    "overall_data.to_csv(data_repository + \"Banana data.csv\") \n",
    "\n",
    "      \n",
    "      "
   ]
  },
  {
   "cell_type": "code",
   "execution_count": 197,
   "metadata": {},
   "outputs": [],
   "source": [
    "overall_data = pd.DataFrame(columns = ['area', 'eccentricity', 'ave_R', 'ave_G', 'ave_B'])\n",
    "commands = [\n",
    "            ['invert'],\n",
    "            ['median_blur', 15],\n",
    "            ['grayscale'],\n",
    "            ['simple_binarize', 27],\n",
    "            ['fill_holes'],\n",
    "            # ['closing', cv2.getStructuringElement(cv2.MORPH_ELLIPSE,(7,7))],\n",
    "            ['apply_mask'],\n",
    "            ['separate_RGB'],\n",
    "            ['average_rgb'],\n",
    "            ['get_mask'],\n",
    "            ['save', ('area','centroid', 'bbox', \n",
    "                      'perimeter', 'eccentricity' , \n",
    "                      'orientation','axis_major_length',\n",
    "                        'axis_minor_length'), 2000 ]\n",
    "        ]\n",
    "for images in os.listdir(image_repository + 'Apple/'):\n",
    " \n",
    "    # check if the image ends with png\n",
    "    if (images.endswith(\".jpg\")):\n",
    "      data, ave_R, ave_G, ave_B = morphing_time('Apple/'+images, commands)\n",
    "      new_data = [data.iloc[0]['area'], data.iloc[0]['eccentricity'], ave_R, ave_G, ave_B]\n",
    "      overall_data.loc[len(overall_data)] = new_data\n",
    "\n",
    "overall_data.to_csv(data_repository + \"Apple data.csv\") "
   ]
  }
 ],
 "metadata": {
  "kernelspec": {
   "display_name": "Python 3",
   "language": "python",
   "name": "python3"
  },
  "language_info": {
   "codemirror_mode": {
    "name": "ipython",
    "version": 3
   },
   "file_extension": ".py",
   "mimetype": "text/x-python",
   "name": "python",
   "nbconvert_exporter": "python",
   "pygments_lexer": "ipython3",
   "version": "3.11.2"
  },
  "orig_nbformat": 4
 },
 "nbformat": 4,
 "nbformat_minor": 2
}
