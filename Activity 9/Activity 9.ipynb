{
 "cells": [
  {
   "attachments": {},
   "cell_type": "markdown",
   "metadata": {},
   "source": [
    "# Prelude\n",
    "Hehe I really liked this activity. But I did the logistic regression a bit late and I am really out of energy now. So really sorry for doing only the required parts :c.\n",
    "\n",
    "# Acknowledgements\n",
    "I'd like to thank my instructors, Sir Rene Principe Jr. and Sir Kenneth Leo, for guiding me throughout the activity. I would also like to thank my professor, Ma'am Jing, for guiding me in my coding while my classmates and I worked in R202. I would also like to acknowledge my classmates: Abdel, Johnenn, Jonabel, Richmond, Lovely, Hans, Genesis, Jeruine, Rusher, and Ron for helping me complete this activity."
   ]
  },
  {
   "cell_type": "code",
   "execution_count": 1,
   "metadata": {},
   "outputs": [],
   "source": [
    "import numpy as np\n",
    "import matplotlib.pyplot as plt\n",
    "import cv2\n",
    "import statistics as st\n",
    "from PIL import Image\n",
    "from skimage.measure import label, regionprops, regionprops_table\n",
    "import pandas as pd\n",
    "import os\n",
    "from scipy.ndimage import binary_fill_holes\n",
    "from sklearn.model_selection import train_test_split\n",
    "\n",
    "image_repository = \"./Image repository/\"\n",
    "data_repository = \"./Features extracted/\"\n",
    "\n",
    "# initializing this so I have a placeholder\n",
    "image = 0\n",
    "R,G,B, ave_R,ave_G, ave_B = None, None, None, None, None, None\n",
    "def g(a):\n",
    "    pass"
   ]
  },
  {
   "cell_type": "code",
   "execution_count": 148,
   "metadata": {},
   "outputs": [],
   "source": [
    "def model(x):\n",
    "    return np.sin(x)\n",
    "\n",
    "def sigmoid(a):\n",
    "    return 1/(1 + np.exp(-a))\n",
    "\n",
    "def sigmoid_derivative(a):\n",
    "    return sigmoid(a)*(1 - sigmoid(a))\n",
    "    "
   ]
  },
  {
   "cell_type": "code",
   "execution_count": 40,
   "metadata": {},
   "outputs": [],
   "source": [
    "\n"
   ]
  },
  {
   "cell_type": "code",
   "execution_count": 145,
   "metadata": {},
   "outputs": [],
   "source": [
    "def x_vectors(x, n):\n",
    "    vectors = []\n",
    "    for i in range(n):\n",
    "        vectors.append(x**i)\n",
    "    vecs = np.array(vectors)\n",
    "    return np.dstack(np.split(vecs, n))\n",
    "\n",
    "\n",
    "def initialize_omega(size, shape):\n",
    "    weights = np.random.random(size = size)\n",
    "    weights = np.reshape(weights, shape)\n",
    "    return weights"
   ]
  },
  {
   "cell_type": "code",
   "execution_count": 162,
   "metadata": {},
   "outputs": [],
   "source": [
    "def start_learning(data_input, omega_input1, omega_input2):\n",
    "    \n",
    "    # Setting up the parameters\n",
    "    xi = data_input.copy()\n",
    "    d = model(xi)\n",
    "    omegaji = omega_input1.copy()\n",
    "    omegakj = omega_input2.copy()\n",
    "    aj = []\n",
    "    \n",
    "    # getting aj\n",
    "    for i in range(len(omegaji)):\n",
    "        aj.append(np.sum(np.dot(xi,omegaji[i,:])))\n",
    "    \n",
    "    aj = np.array(aj)\n",
    " \n",
    "    # Getting gj\n",
    "    gj = sigmoid(aj)\n",
    "    \n",
    "    # Getting ak\n",
    "    ak = np.sum(np.dot(omegakj,gj))\n",
    "    z = sigmoid(ak)\n",
    "\n",
    "    # Computing the error of each output\n",
    "    indiv_E = np.dot(sigmoid_derivative(np.dot(omegakj,gj)),(sigmoid(omegakj*gj) - d))\n",
    "    \n",
    "    # hiden error \n",
    "\n"
   ]
  },
  {
   "cell_type": "code",
   "execution_count": 163,
   "metadata": {},
   "outputs": [
    {
     "name": "stdout",
     "output_type": "stream",
     "text": [
      "[17788.15131238 16090.89830205 12342.79313793]\n"
     ]
    },
    {
     "ename": "ValueError",
     "evalue": "operands could not be broadcast together with shapes (3,) (1,20,4) ",
     "output_type": "error",
     "traceback": [
      "\u001b[1;31m---------------------------------------------------------------------------\u001b[0m",
      "\u001b[1;31mValueError\u001b[0m                                Traceback (most recent call last)",
      "Cell \u001b[1;32mIn[163], line 7\u001b[0m\n\u001b[0;32m      4\u001b[0m omega_initial_1st_layer \u001b[39m=\u001b[39m initialize_omega(N\u001b[39m*\u001b[39mM, [M,N])\n\u001b[0;32m      5\u001b[0m omega_initial_2nd_layer \u001b[39m=\u001b[39m initialize_omega(M, [M,])\n\u001b[1;32m----> 7\u001b[0m omega_1st_layer, omega_2nd_layer \u001b[39m=\u001b[39m start_learning(x_vec, omega_initial_1st_layer, omega_initial_2nd_layer)\n",
      "Cell \u001b[1;32mIn[162], line 24\u001b[0m, in \u001b[0;36mstart_learning\u001b[1;34m(data_input, omega_input1, omega_input2)\u001b[0m\n\u001b[0;32m     21\u001b[0m z \u001b[39m=\u001b[39m sigmoid(ak)\n\u001b[0;32m     23\u001b[0m \u001b[39m# Computing the error of each output\u001b[39;00m\n\u001b[1;32m---> 24\u001b[0m indiv_E \u001b[39m=\u001b[39m np\u001b[39m.\u001b[39mdot(sigmoid_derivative(np\u001b[39m.\u001b[39mdot(omegakj,gj)),(sigmoid(omegakj\u001b[39m*\u001b[39;49mgj) \u001b[39m-\u001b[39;49m d))\n",
      "\u001b[1;31mValueError\u001b[0m: operands could not be broadcast together with shapes (3,) (1,20,4) "
     ]
    }
   ],
   "source": [
    "N = 4\n",
    "M = 3\n",
    "x_vec = x_vectors(np.arange(0, 20, 1) , N)\n",
    "omega_initial_1st_layer = initialize_omega(N*M, [M,N])\n",
    "omega_initial_2nd_layer = initialize_omega(M, [M,])\n",
    "\n",
    "omega_1st_layer, omega_2nd_layer = start_learning(x_vec, omega_initial_1st_layer, omega_initial_2nd_layer)\n"
   ]
  },
  {
   "cell_type": "code",
   "execution_count": 153,
   "metadata": {},
   "outputs": [
    {
     "name": "stdout",
     "output_type": "stream",
     "text": [
      "[[[   1    0    0    0]\n",
      "  [   1    1    1    1]\n",
      "  [   1    2    4    8]\n",
      "  [   1    3    9   27]\n",
      "  [   1    4   16   64]\n",
      "  [   1    5   25  125]\n",
      "  [   1    6   36  216]\n",
      "  [   1    7   49  343]\n",
      "  [   1    8   64  512]\n",
      "  [   1    9   81  729]\n",
      "  [   1   10  100 1000]\n",
      "  [   1   11  121 1331]\n",
      "  [   1   12  144 1728]\n",
      "  [   1   13  169 2197]\n",
      "  [   1   14  196 2744]\n",
      "  [   1   15  225 3375]\n",
      "  [   1   16  256 4096]\n",
      "  [   1   17  289 4913]\n",
      "  [   1   18  324 5832]\n",
      "  [   1   19  361 6859]]]\n",
      "[[0.67609926 0.64034526 0.18621865 0.00174536]\n",
      " [0.39268382 0.90861099 0.15061905 0.67954783]\n",
      " [0.47578024 0.88675707 0.43972536 0.20660544]]\n",
      "[0.3650528  0.88234878 0.05644326]\n"
     ]
    }
   ],
   "source": [
    "print(x_vec)\n",
    "print(omega_initial_1st_layer)\n",
    "print(omega_initial_2nd_layer)"
   ]
  },
  {
   "cell_type": "code",
   "execution_count": 133,
   "metadata": {},
   "outputs": [
    {
     "name": "stdout",
     "output_type": "stream",
     "text": [
      "1529.9890456086077\n"
     ]
    }
   ],
   "source": [
    "test = 0\n",
    "for i in range(len(x_vec)):\n",
    "    test += x_vec[i,:]*omega_initial_1st_layer[2,:]\n",
    "print(np.sum(test))"
   ]
  },
  {
   "cell_type": "code",
   "execution_count": 74,
   "metadata": {},
   "outputs": [
    {
     "name": "stdout",
     "output_type": "stream",
     "text": [
      "[0.00000000e+00 1.40241306e-01 1.12193045e+00 3.78651527e+00\n",
      " 8.97544360e+00 1.75301633e+01 3.02921221e+01 4.81027680e+01\n",
      " 7.18035488e+01 1.02235912e+02 1.40241306e+02 1.86661179e+02\n",
      " 2.42336977e+02 3.08110150e+02 3.84822144e+02 4.73314408e+02\n",
      " 5.74428390e+02 6.89005537e+02 8.17887298e+02 9.61915119e+02]\n"
     ]
    }
   ],
   "source": [
    "print(x_vec[3,:]*omega_initial_1st_layer[3,2])"
   ]
  }
 ],
 "metadata": {
  "kernelspec": {
   "display_name": "Python 3",
   "language": "python",
   "name": "python3"
  },
  "language_info": {
   "codemirror_mode": {
    "name": "ipython",
    "version": 3
   },
   "file_extension": ".py",
   "mimetype": "text/x-python",
   "name": "python",
   "nbconvert_exporter": "python",
   "pygments_lexer": "ipython3",
   "version": "3.11.3"
  },
  "orig_nbformat": 4
 },
 "nbformat": 4,
 "nbformat_minor": 2
}
